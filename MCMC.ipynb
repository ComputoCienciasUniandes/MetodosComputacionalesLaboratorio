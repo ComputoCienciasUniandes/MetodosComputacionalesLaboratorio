{
 "metadata": {
  "name": "",
  "signature": "sha256:061b1ebab85744a703e7b49a86f978b45d0e3734bfa25f96fc073ef2527c321d"
 },
 "nbformat": 3,
 "nbformat_minor": 0,
 "worksheets": [
  {
   "cells": [
    {
     "cell_type": "markdown",
     "metadata": {},
     "source": [
      "# Metropolis"
     ]
    },
    {
     "cell_type": "code",
     "collapsed": false,
     "input": [
      "%pylab"
     ],
     "language": "python",
     "metadata": {},
     "outputs": [
      {
       "output_type": "stream",
       "stream": "stdout",
       "text": [
        "Using matplotlib backend: TkAgg\n",
        "Populating the interactive namespace from numpy and matplotlib\n"
       ]
      }
     ],
     "prompt_number": 2
    },
    {
     "cell_type": "code",
     "collapsed": false,
     "input": [
      "def function(x):\n",
      "    return exp(-(x-30)**2/100.)"
     ],
     "language": "python",
     "metadata": {},
     "outputs": [],
     "prompt_number": 2
    },
    {
     "cell_type": "code",
     "collapsed": false,
     "input": [
      "x = linspace(0.0,60.0,1000)\n",
      "f = function(x)"
     ],
     "language": "python",
     "metadata": {},
     "outputs": [],
     "prompt_number": 93
    },
    {
     "cell_type": "code",
     "collapsed": false,
     "input": [
      "plot(x, f)"
     ],
     "language": "python",
     "metadata": {},
     "outputs": [
      {
       "metadata": {},
       "output_type": "pyout",
       "prompt_number": 94,
       "text": [
        "[<matplotlib.lines.Line2D at 0x7f37540d2fd0>]"
       ]
      }
     ],
     "prompt_number": 94
    },
    {
     "cell_type": "code",
     "collapsed": false,
     "input": [
      "walk = []"
     ],
     "language": "python",
     "metadata": {},
     "outputs": [],
     "prompt_number": 102
    },
    {
     "cell_type": "code",
     "collapsed": false,
     "input": [
      "X = random.random()*60\n",
      "walk.append(X)\n",
      "walk"
     ],
     "language": "python",
     "metadata": {},
     "outputs": [
      {
       "metadata": {},
       "output_type": "pyout",
       "prompt_number": 103,
       "text": [
        "[20.00666334491126]"
       ]
      }
     ],
     "prompt_number": 103
    },
    {
     "cell_type": "code",
     "collapsed": false,
     "input": [
      "for i in range(200000):\n",
      "    new_x = random.normal(walk[i], 0.1)\n",
      "    alpha = function(new_x)/function(walk[i])\n",
      "    if alpha > 1.0:\n",
      "        walk.append(new_x)\n",
      "    else: \n",
      "        beta = random.random()\n",
      "        if beta < alpha:\n",
      "            walk.append(new_x)\n",
      "        else:\n",
      "            walk.append(walk[i])"
     ],
     "language": "python",
     "metadata": {},
     "outputs": [],
     "prompt_number": 104
    },
    {
     "cell_type": "code",
     "collapsed": false,
     "input": [
      "norm = sum(f*(x[1]-x[0]))\n",
      "plot(x,f/norm, linewidth=1, color='r')\n",
      "h = hist(walk, bins=50, normed=True)"
     ],
     "language": "python",
     "metadata": {},
     "outputs": [],
     "prompt_number": 105
    },
    {
     "cell_type": "markdown",
     "metadata": {},
     "source": [
      "# 2D metropolis"
     ]
    },
    {
     "cell_type": "code",
     "collapsed": false,
     "input": [
      "def function2(x1, x2):\n",
      "    return exp((-100*(x2-x1**2)**2+(1-x1)**2)/20.)"
     ],
     "language": "python",
     "metadata": {},
     "outputs": [],
     "prompt_number": 109
    },
    {
     "cell_type": "code",
     "collapsed": false,
     "input": [
      "x1 = linspace(-4, 4, 100)\n",
      "x2 = linspace(-4, 4, 100)"
     ],
     "language": "python",
     "metadata": {},
     "outputs": [],
     "prompt_number": 153
    },
    {
     "cell_type": "code",
     "collapsed": false,
     "input": [
      "f = function2(x1, x2)"
     ],
     "language": "python",
     "metadata": {},
     "outputs": [],
     "prompt_number": 154
    },
    {
     "cell_type": "code",
     "collapsed": false,
     "input": [
      "plot(x1, f)"
     ],
     "language": "python",
     "metadata": {},
     "outputs": [
      {
       "metadata": {},
       "output_type": "pyout",
       "prompt_number": 145,
       "text": [
        "[<matplotlib.lines.Line2D at 0x7f375359f390>]"
       ]
      }
     ],
     "prompt_number": 145
    },
    {
     "cell_type": "code",
     "collapsed": false,
     "input": [
      "plot(x2, f)"
     ],
     "language": "python",
     "metadata": {},
     "outputs": [
      {
       "metadata": {},
       "output_type": "pyout",
       "prompt_number": 117,
       "text": [
        "[<matplotlib.lines.Line2D at 0x7f37540ec410>]"
       ]
      }
     ],
     "prompt_number": 117
    },
    {
     "cell_type": "code",
     "collapsed": false,
     "input": [
      "from mpl_toolkits.mplot3d import Axes3D\n",
      "from matplotlib import cm"
     ],
     "language": "python",
     "metadata": {},
     "outputs": [],
     "prompt_number": 140
    },
    {
     "cell_type": "code",
     "collapsed": false,
     "input": [
      "fig = plt.figure()\n",
      "ax = fig.add_subplot(111, projection='3d')\n",
      "ax.plot_surface(x1, x2, f, color='b')\n",
      "plt.show()"
     ],
     "language": "python",
     "metadata": {},
     "outputs": [],
     "prompt_number": 156
    },
    {
     "cell_type": "code",
     "collapsed": false,
     "input": [
      "walk_x1 = []\n",
      "walk_x2 = []"
     ],
     "language": "python",
     "metadata": {},
     "outputs": [],
     "prompt_number": 178
    },
    {
     "cell_type": "code",
     "collapsed": false,
     "input": [
      "X1 = 8*(random.random()-0.5)\n",
      "X2 = 8*(random.random()-0.5)\n",
      "walk_x1.append(X1)\n",
      "walk_x2.append(X2)\n",
      "print walk_x1, walk_x2"
     ],
     "language": "python",
     "metadata": {},
     "outputs": [
      {
       "output_type": "stream",
       "stream": "stdout",
       "text": [
        "[-0.8913828540338891] [-3.1849192333176344]\n"
       ]
      }
     ],
     "prompt_number": 179
    },
    {
     "cell_type": "code",
     "collapsed": false,
     "input": [
      "for i in range(20000):\n",
      "    new_x1 = random.normal(walk_x1[i], 0.1)\n",
      "    new_x2 = random.normal(walk_x2[i], 0.1)\n",
      "\n",
      "    alpha_1 = function2(new_x1, new_x2)/function2(walk_x1[i], walk_x2[i])\n",
      "    if alpha > 1.0:\n",
      "        walk_x1.append(new_x1)\n",
      "        walk_x2.append(new_x2)\n",
      "\n",
      "    else: \n",
      "        beta = random.random()\n",
      "        if beta < alpha:\n",
      "           walk_x1.append(new_x1)\n",
      "           walk_x2.append(new_x2)\n",
      "        else:\n",
      "            walk_x1.append(walk_x1[i])\n",
      "            walk_x2.append(walk_x1[i])"
     ],
     "language": "python",
     "metadata": {},
     "outputs": [],
     "prompt_number": 180
    },
    {
     "cell_type": "markdown",
     "metadata": {},
     "source": [
      "## MCMC fitting"
     ]
    },
    {
     "cell_type": "code",
     "collapsed": false,
     "input": [
      "data = loadtxt(\"movimiento.dat\")\n",
      "\n",
      "x_obs = data[:,0]\n",
      "y_obs = data[:,1]"
     ],
     "language": "python",
     "metadata": {},
     "outputs": [],
     "prompt_number": 11
    },
    {
     "cell_type": "code",
     "collapsed": true,
     "input": [
      "scatter(x, y)"
     ],
     "language": "python",
     "metadata": {},
     "outputs": [
      {
       "metadata": {},
       "output_type": "pyout",
       "prompt_number": 16,
       "text": [
        "<matplotlib.collections.PathCollection at 0x7f45c48cbd10>"
       ]
      }
     ],
     "prompt_number": 16
    },
    {
     "cell_type": "markdown",
     "metadata": {},
     "source": [
      "## $y = ax + bx^2$"
     ]
    },
    {
     "cell_type": "code",
     "collapsed": false,
     "input": [
      "def likelihood(y_obs, y_model):\n",
      "    chi_squared = (1.0/2.0)*sum((y_obs-y_model)**2)\n",
      "    return chi_squared"
     ],
     "language": "python",
     "metadata": {},
     "outputs": [],
     "prompt_number": 27
    },
    {
     "cell_type": "code",
     "collapsed": false,
     "input": [
      "def my_model(x_obs, a, b):\n",
      "    return a*x_obs + b*x_obs**2"
     ],
     "language": "python",
     "metadata": {},
     "outputs": [],
     "prompt_number": 9
    },
    {
     "cell_type": "code",
     "collapsed": false,
     "input": [
      "a_walk = empty((0)) #this is an empty list to keep all the steps\n",
      "b_walk = empty((0))\n",
      "l_walk = empty((0))\n",
      "\n",
      "a_walk = append(a_walk, random.random())\n",
      "b_walk = append(b_walk, random.random())\n",
      "\n",
      "y_init = my_model(x_obs, a_walk[0], b_walk[0])\n",
      "l_walk = append(l_walk, likelihood(y_obs, y_init))\n",
      "print a_walk[0]\n",
      "print b_walk[0]\n",
      "print l_walk\n",
      "print -0.5*sum((y_init - y_obs)**2)"
     ],
     "language": "python",
     "metadata": {},
     "outputs": [
      {
       "output_type": "stream",
       "stream": "stdout",
       "text": [
        "0.198365867066\n",
        "0.434968072018\n",
        "[ 0.]\n",
        "-389987.802226\n"
       ]
      }
     ],
     "prompt_number": 25
    },
    {
     "cell_type": "code",
     "collapsed": false,
     "input": [
      "n_iterations = 20000 #this is the number of iterations I want to make\n",
      "for i in range(n_iterations):\n",
      "    a_prime = np.random.normal(a_walk[i], 0.1) \n",
      "    b_prime = np.random.normal(b_walk[i], 0.1)\n",
      "\n",
      "    y_init = my_model(x_obs, a_walk[i], b_walk[i])\n",
      "    y_prime = my_model(x_obs, a_prime, b_prime)\n",
      "    \n",
      "    l_prime = likelihood(y_obs, y_prime)\n",
      "    l_init = likelihood(y_obs, y_init)\n",
      "    \n",
      "    alpha = l_prime/l_init\n",
      "    if(alpha<=1.0):\n",
      "        a_walk  = append(a_walk,a_prime)\n",
      "        b_walk  = append(b_walk,b_prime)\n",
      "        l_walk = append(l_walk, l_prime)\n",
      "    else:\n",
      "        beta = random.random()\n",
      "        if(beta<=exp(-alpha)):\n",
      "            a_walk = append(a_walk,a_prime)\n",
      "            b_walk = append(b_walk,b_prime)\n",
      "            l_walk = append(l_walk, l_prime)\n",
      "        else:\n",
      "            a_walk = append(a_walk,a_walk[i])\n",
      "            b_walk = append(b_walk,b_walk[i])\n",
      "            l_walk = append(l_walk, l_init)"
     ],
     "language": "python",
     "metadata": {},
     "outputs": [],
     "prompt_number": 28
    },
    {
     "cell_type": "code",
     "collapsed": false,
     "input": [
      "scatter(x_obs, y_obs)\n",
      "plot(x_obs, my_model(x_obs, mean(a_walk), mean(b_walk)))"
     ],
     "language": "python",
     "metadata": {},
     "outputs": [
      {
       "metadata": {},
       "output_type": "pyout",
       "prompt_number": 33,
       "text": [
        "[<matplotlib.lines.Line2D at 0x7f45c4a9be50>]"
       ]
      }
     ],
     "prompt_number": 33
    },
    {
     "cell_type": "code",
     "collapsed": false,
     "input": [],
     "language": "python",
     "metadata": {},
     "outputs": []
    }
   ],
   "metadata": {}
  }
 ]
}