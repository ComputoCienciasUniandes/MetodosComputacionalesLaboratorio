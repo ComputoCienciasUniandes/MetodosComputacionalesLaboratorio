{
 "metadata": {
  "name": "AudioLab1"
 },
 "nbformat": 3,
 "nbformat_minor": 0,
 "worksheets": [
  {
   "cells": [
    {
     "cell_type": "markdown",
     "metadata": {},
     "source": [
      "# SOX & scikits audiolab"
     ]
    },
    {
     "cell_type": "markdown",
     "metadata": {},
     "source": [
      "# Installing SOX:\n",
      "\n",
      "if(OS == ubuntu):\n",
      "\n",
      "    sudo apt-get install sox\n",
      "\n",
      "\n",
      "elif (OS == Linux != Ubuntu):\n",
      "    download it from here: http://sourceforge.net/projects/sox/files/sox/14.4.1/\n",
      "\n",
      "    untar the file sox-14.4.1.tar.gz an type:\n",
      "    \n",
      "    ./cofigure\n",
      "    \n",
      "    make -s\n",
      "    \n",
      "    make install\n",
      "\n",
      "\n",
      "elif (OS = Mac):\n",
      "\n",
      "     just download  sox-14.4.1-macosx.zip \n",
      "\n"
     ]
    },
    {
     "cell_type": "markdown",
     "metadata": {},
     "source": [
      "# Using sox:\n",
      "\n",
      "For our exercise we need to lear to record sounds usins sox for that purpose we use the following command:\n",
      "\n",
      "    rec -c 1 voice.wav trim 0 2\n",
      "    \n",
      "where -c 1 is the numbers of channels for our exercise we need to record just in 1 channel. After you put the name of \n",
      "the sound you are recording. the trim flag is to record just 2 seconds. if you dont put the trim flag you can stop it with Ctrl + c\n",
      "\n",
      "To play the sound you just record just type:\n",
      "    \n",
      "    play voice.wav\n",
      "\n",
      "For other uses of sox you can visit this page:\n",
      "    \n",
      "    http://www.thegeekstuff.com/2009/05/sound-exchange-sox-15-examples-to-manipulate-audio-files/\n",
      "        \n",
      "        or type man sox"
     ]
    },
    {
     "cell_type": "markdown",
     "metadata": {},
     "source": [
      "# Installing scikits.aiudiolab \n",
      "\n",
      "Donwload the file  scikits.audiolab-0.11.0.tar.gz from:\n",
      "\n",
      "https://pypi.python.org/pypi/scikits.audiolab#downloads\n",
      "\n",
      "and the go to the directory  /scikits.audiolab-0.11.0  \n",
      "\n",
      "and type in the terminal\n",
      "\n",
      "python setup.py install\n",
      "\n",
      "and enjoy..."
     ]
    },
    {
     "cell_type": "code",
     "collapsed": false,
     "input": [
      "import scikits.audiolab as audio\n",
      "from scipy.fftpack import fft, fftfreq\n",
      "from __future__ import division\n",
      "%pylab inline\n"
     ],
     "language": "python",
     "metadata": {},
     "outputs": [
      {
       "output_type": "stream",
       "stream": "stdout",
       "text": [
        "\n",
        "Welcome to pylab, a matplotlib-based Python environment [backend: module://IPython.zmq.pylab.backend_inline].\n",
        "For more information, type 'help(pylab)'.\n"
       ]
      }
     ],
     "prompt_number": 20
    },
    {
     "cell_type": "code",
     "collapsed": false,
     "input": [
      "input_signal, sampling_rate, enc = audio.wavread(\"text2.wav\")\n",
      "\n",
      "\n",
      "print (input_signal[0:10]), sampling_rate, enc"
     ],
     "language": "python",
     "metadata": {},
     "outputs": [
      {
       "output_type": "stream",
       "stream": "stdout",
       "text": [
        "[-0.05569458 -0.05990601 -0.05343628 -0.056427   -0.06515503 -0.07446289\n",
        " -0.0680542  -0.04858398 -0.04751587 -0.05764771] 48000 pcm16\n"
       ]
      }
     ],
     "prompt_number": 25
    },
    {
     "cell_type": "code",
     "collapsed": false,
     "input": [
      "time_array = arange(0, len(input_signal)/float(sampling_rate), 1/float(sampling_rate))"
     ],
     "language": "python",
     "metadata": {},
     "outputs": [],
     "prompt_number": 26
    },
    {
     "cell_type": "code",
     "collapsed": false,
     "input": [
      "plot(time_array[0:4000], input_signal[0:4000])\n",
      "xlabel(\"time(s)\", fontsize=20)\n",
      "ylabel(\"Amplitude\", fontsize=20)"
     ],
     "language": "python",
     "metadata": {},
     "outputs": [
      {
       "output_type": "pyout",
       "prompt_number": 27,
       "text": [
        "<matplotlib.text.Text at 0x4751210>"
       ]
      },
      {
       "output_type": "display_data",
       "png": "[encoded data removed]"
      }
     ],
     "prompt_number": 27
    },
    {
     "cell_type": "markdown",
     "metadata": {},
     "source": [
      "<audio controls>\n",
      "    <source src=\"files/text2.wav\" type=\"audio/wav\" />\n",
      "</audio>"
     ]
    },
    {
     "cell_type": "raw",
     "metadata": {},
     "source": [
      "Para reproducir el sonido usen en mardown mode el siguiente codigo:\n",
      "    \n",
      "<audio controls>\n",
      "<source src=\"files/text.wav\" type=\"audio/wav\" />\n",
      "</audio>"
     ]
    },
    {
     "cell_type": "code",
     "collapsed": false,
     "input": [
      "n = len(time_array) # number of points in the whole interval\n",
      "f = 200.0 #  frequency in Hz\n",
      "dt = 1 / (f * n/7. ) #32 samples per frequency"
     ],
     "language": "python",
     "metadata": {},
     "outputs": [],
     "prompt_number": 18
    },
    {
     "cell_type": "code",
     "collapsed": false,
     "input": [
      "output_file = audio.Sndfile(\"darthvader.wav\", 'w', audio.Format('wav'), 1, sample_rate)"
     ],
     "language": "python",
     "metadata": {},
     "outputs": [],
     "prompt_number": 173
    },
    {
     "cell_type": "code",
     "collapsed": false,
     "input": [
      "output_file.write_frames(out.real)\n",
      "output_file.close() "
     ],
     "language": "python",
     "metadata": {},
     "outputs": [],
     "prompt_number": 174
    },
    {
     "cell_type": "code",
     "collapsed": false,
     "input": [],
     "language": "python",
     "metadata": {},
     "outputs": []
    }
   ],
   "metadata": {}
  }
 ]
}