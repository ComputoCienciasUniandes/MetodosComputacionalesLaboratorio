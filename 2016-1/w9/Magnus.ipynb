{
 "cells": [
  {
   "cell_type": "markdown",
   "metadata": {},
   "source": [
    "## Bend it like Magnus\n",
    "\n",
    "Vamos a estudiar un efecto bastante importante en deportes, el efecto de los goles imposibles, las bolas curvas, etc. Es el efecto Magnus. \n",
    "\n",
    "https://www.reddit.com/r/gifs/comments/3deddo/the_magnus_effect_when_a_small_amount_of_spin_is/\n",
    "\n",
    "Visto de manera simple, la trayectoria de un objeto que gira en el aire con frecuencia angular $\\omega$ y que lleva una velocidad $\\vec{v}$ es alterada por una fuerza causada por el vórtice generado por el objeto que se puede calcular como:\n",
    "\n",
    "$$F_\\mathrm{Magnus}=S\\ (\\vec{\\omega}\\times\\vec{v})$$\n",
    "\n",
    "Donde $S$ es un coeficiente relacionado con la fricción del aire con el objeto, que en general depende de la velocidad (en nuestro caso supondremos que $S$ es constante). Adicionalmente, se presenta la fuerza de resistencia del aire, que se puede modelar como:\n",
    "\n",
    "$$F_\\mathrm{Drag}=-\\frac{1}{2}\\rho C A v^2\\hat{v}\n",
    "\n",
    "Donde $\\rho$ es la densidad del objeto, $C$ es el coeficiente de resistencia del aire, y $A$ es el área del objeto.\n",
    "\n",
    "La idea es modelar en FORTRAN un tiro al arco de un balón de fútbol (bendit.f90) como un tiro parabólico modificado por la aceleración generada por las fuerzas de Magnus y de resistencia del aire, tomándolas como constantes en el tiempo (que de ninguna forma lo son en realidad).\n",
    "\n",
    "Las condiciones son:\n",
    "$\\omega=8*2\\pi$ s$^{-1}$ (hacia arriba)\n",
    "$C$=0.5;\n",
    "$S$=0.0023 kg$^{-1}$;\n",
    "$v$=30 m/s;\n",
    "$\\theta_v$=30$^\\circ$.\n",
    "\n",
    "1) Escriba el programa en FORTRAN que produzca los datos usados en los siguientes puntos:\n",
    "2) Grafique (usando python) las tres coordenadas del balón de fútbol como función del tiempo. \n",
    "3) Haga una gráfica de la deflexión total vs. la frecuencia angular\n",
    "\n",
    "\n"
   ]
  },
  {
   "cell_type": "code",
   "execution_count": null,
   "metadata": {
    "collapsed": true
   },
   "outputs": [],
   "source": []
  }
 ],
 "metadata": {
  "kernelspec": {
   "display_name": "Python 2",
   "language": "python",
   "name": "python2"
  },
  "language_info": {
   "codemirror_mode": {
    "name": "ipython",
    "version": 2
   },
   "file_extension": ".py",
   "mimetype": "text/x-python",
   "name": "python",
   "nbconvert_exporter": "python",
   "pygments_lexer": "ipython2",
   "version": "2.7.10"
  }
 },
 "nbformat": 4,
 "nbformat_minor": 0
}
