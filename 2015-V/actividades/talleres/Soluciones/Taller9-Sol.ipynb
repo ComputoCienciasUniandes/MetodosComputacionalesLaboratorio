{
 "metadata": {
  "name": "",
  "signature": "sha256:1a811b912d223b4f4eb6adfdc1f2984f4c6bd2a01ac69fe02ebd75809c3a548a"
 },
 "nbformat": 3,
 "nbformat_minor": 0,
 "worksheets": [
  {
   "cells": [
    {
     "cell_type": "code",
     "collapsed": false,
     "input": [
      "import numpy as np\n",
      "import matplotlib as mpl; import matplotlib.pyplot as plt\n",
      "%matplotlib inline\n",
      "import os; import pickle"
     ],
     "language": "python",
     "metadata": {},
     "outputs": [],
     "prompt_number": 3
    },
    {
     "cell_type": "markdown",
     "metadata": {},
     "source": [
      "$$\\frac{\\partial^2 \\psi}{\\partial{x}^2} + \\frac{\\partial^2 \\psi}{\\partial{y}^2} - 2\\eta \\frac{\\partial\\psi}{\\partial{t}} = \\frac{1}{v^2}\\frac{\\partial^2 \\psi}{\\partial{t}^2}$$\n",
      "\n",
      "Utilizando las aproximaciones por diferencias finitas para las segundas derivadas y derivadas centrales para la primera derivada con respecto al tiempo se tiene que:\n",
      "\n",
      "$$\\frac{1}{\\Delta{x}^2}\\left( \\psi_{i+1,j}^n + \\psi_{i-1,j}^n + \\psi_{i,j+1}^n + \\psi_{i,j-1}^n - 4\\psi_{i,j}^n  \\right) - \\frac{\\eta}{\\Delta t} \\left(\\psi_{i,j}^{n+1} - \\psi_{i,j}^{n-1}  \\right) = \\frac{1}{v^2 \\Delta t^2}\\left( \\psi_{i,j}^{n+1} + \\psi_{i,j}^{n-1} - 2\\psi_{i,j}^{n} \\right)$$\n",
      "\n",
      "De donde se puede resolver para $\\psi_{i,j}^{n+1}$ en t\u00e9rminos de los valores en $n$ y $n-1$:\n",
      "\n",
      "$$ \\psi_{i,j}^{n+1} = \\frac{(2-4r^2)}{1+\\beta}\\psi_{i,j}^n + \\frac{r^2}{1+\\beta}\\left( \\psi_{i+1,j}^n + \\psi_{i-1,j}^n + \\psi_{i,j+1}^n + \\psi_{i,j-1}^n \\right) + \\frac{\\beta-1}{1 + \\beta}\\psi_{i,j}^{n-1}$$\n",
      "\n",
      "Siendo:\n",
      "\n",
      "$$r=v\\frac{\\Delta t}{\\Delta x} \\textrm{ y } \\beta=\\eta\\Delta{t}v^2$$\n",
      "\n",
      "La primera iteraci\u00f3n debe tratarse como caso especial y usarse para ella la condici\u00f3n sobre la velocidad inicial. Si se asume que la velocidad inicial es igual a cero entonces se tiene que $\\psi_{i,j}^{1}=\\psi_{i,j}^{-1}$ y con esto se puede encontrar que:\n",
      "\n",
      "$$\\psi_{i,j}^{1} = \\frac{1+\\beta}{2} \\left( \\frac{2-4r^2}{1+\\beta} \\psi_{i,j}^0 + \\frac{r^2}{1+\\beta} \\left( \\psi_{i+1,j}^0 + \\psi_{i-1,j}^0 + \\psi_{i,j+1}^0 + \\psi_{i,j-1}^0 \\right) \\right)$$\n",
      "\n",
      "$\\eta$ define junto con $v$ la escala de tiempo en la que una onda se desvanece siendo ella igual a $\\frac{1}{\\eta v^2}$."
     ]
    },
    {
     "cell_type": "code",
     "collapsed": false,
     "input": [
      "L=1.\n",
      "xmin=-L/2  # en metros\n",
      "xmax=L/2   # en metros\n",
      "ymin=-L/2\n",
      "ymax=L/2\n",
      "v=2. # m/s\n",
      "tmax=10.*L/v # aproximadamente 5 ires y venires\n",
      "Nl=80\n",
      "Nt=1500.\n",
      "dt=tmax/Nt\n",
      "print \"dt=\",dt\n",
      "tau=L/v  # tiempo de relajaci\u00f3n tal que al recorrer medio L ya se haya atenuado significativamente\n",
      "print \"tau=\",tau\n",
      "dx=(xmax-xmin)/Nl\n",
      "dy=dx\n",
      "eta=1./v**2/tau\n",
      "r=v*dt/dx\n",
      "beta=eta*v**2*dt\n",
      "print \"r=\",r\n",
      "print \"beta=\",beta\n",
      "stdev=2*dx # tama\u00f1o de las \"gotas\""
     ],
     "language": "python",
     "metadata": {},
     "outputs": [
      {
       "output_type": "stream",
       "stream": "stdout",
       "text": [
        "dt= 0.00333333333333\n",
        "tau= 0.5\n",
        "r= 0.533333333333\n",
        "beta= 0.00666666666667\n"
       ]
      }
     ],
     "prompt_number": 4
    },
    {
     "cell_type": "code",
     "collapsed": false,
     "input": [
      "def drop(amp):\n",
      "    global xmesh\n",
      "    global ymesn\n",
      "    global stdev\n",
      "    x0=np.random.uniform(xmin,xmax)\n",
      "    y0=np.random.uniform(ymin,ymax)\n",
      "    #x0=0.\n",
      "    #y0=0.\n",
      "    return amp*np.exp(-(xmesh-x0)**2/(2*stdev**2))*np.exp(-(ymesh-y0)**2/(2*stdev**2))"
     ],
     "language": "python",
     "metadata": {},
     "outputs": [],
     "prompt_number": 5
    },
    {
     "cell_type": "markdown",
     "metadata": {},
     "source": [
      "$$ \\psi_{i,j}^{n+1} = \\frac{(2-4r^2)}{1+\\beta}\\psi_{i,j}^n + \\frac{r^2}{1+\\beta}\\left( \\psi_{i+1,j}^n + \\psi_{i-1,j}^n + \\psi_{i,j+1}^n + \\psi_{i,j-1}^n \\right) + \\frac{\\beta-1}{1 + \\beta}\\psi_{i,j}^{n-1}$$"
     ]
    },
    {
     "cell_type": "code",
     "collapsed": false,
     "input": [
      "def onestep():\n",
      "    global drum\n",
      "    drum[0], drum[1] = drum[1], (2.-4.*r**2)/(1.+beta)*drum[1]-\\\n",
      "    (1.-beta)/(1.+beta)*drum[0]+\\\n",
      "    r**2/(1.+beta)*(np.roll(drum[1],1,axis=1)+\\\n",
      "                    np.roll(drum[1],-1,axis=1)+\\\n",
      "                    np.roll(drum[1],1,axis=0)+\\\n",
      "                    np.roll(drum[1],-1,axis=0))\n",
      "def firststep():\n",
      "    global drum\n",
      "    global eta\n",
      "    global dt\n",
      "    global r\n",
      "    drum[1] = (2.-4.*r**2)/(1.+beta)*drum[0]+r**2/(1.+beta)*(np.roll(drum[0],1,axis=0)+np.roll(drum[0],-1,axis=0)+np.roll(drum[0],1,axis=1)+np.roll(drum[0],-1,axis=1))\n",
      "def fixborders():\n",
      "    global drum\n",
      "    drum[1,0]=0\n",
      "    drum[1,-1]=0\n",
      "    drum[1,:,-1]=0\n",
      "    drum[1,:,0]=0"
     ],
     "language": "python",
     "metadata": {},
     "outputs": [],
     "prompt_number": 6
    },
    {
     "cell_type": "code",
     "collapsed": false,
     "input": [
      "#extremos fijos\n",
      "xcoords=np.linspace(xmin,xmax,Nl)\n",
      "ycoords=np.linspace(ymin,ymax,Nl)\n",
      "xmesh,ymesh=np.meshgrid(xcoords,ycoords)\n",
      "drum=np.zeros((2,Nl,Nl))\n",
      "drum[0]=drop(0.01)\n",
      "fixborders()\n",
      "firststep()\n",
      "fixborders()"
     ],
     "language": "python",
     "metadata": {},
     "outputs": [],
     "prompt_number": 7
    },
    {
     "cell_type": "code",
     "collapsed": false,
     "input": [
      "query=[]"
     ],
     "language": "python",
     "metadata": {},
     "outputs": [],
     "prompt_number": 8
    },
    {
     "cell_type": "code",
     "collapsed": false,
     "input": [
      "# Animaci\u00f3n\n",
      "%matplotlib osx\n",
      "from matplotlib import animation\n",
      "\n",
      "fig=plt.figure(figsize=(10,10))\n",
      "plt.hold(True)\n",
      "tplot=plt.imshow(drum[0],cmap='winter',vmin=0.,vmax=0.02,interpolation='None')\n",
      "#plt.xlim(xmin+dx,xmax-dx)\n",
      "#plt.ylim(ymin+dy,ymax-dy)\n",
      "\n",
      "def animate(i):\n",
      "    global drum\n",
      "    global query\n",
      "    onestep()\n",
      "    query.append(drum[1,Nl/2,Nl/2])\n",
      "    if np.random.random()<=10*100./Nt:\n",
      "        drum[1]+=drop(0.01*np.random.random())\n",
      "    fixborders()\n",
      "    onestep();fixborders()\n",
      "    onestep();fixborders()\n",
      "    tplot.set_array(np.abs(drum[0]))\n",
      "    return 0\n",
      "\n",
      "animacion = animation.FuncAnimation(fig, animate, np.arange(2,1e6),interval=1, blit=False)\n",
      "plt.show()\n",
      "plt.hold(False)"
     ],
     "language": "python",
     "metadata": {},
     "outputs": [],
     "prompt_number": 9
    },
    {
     "cell_type": "code",
     "collapsed": false,
     "input": [
      "len(query)"
     ],
     "language": "python",
     "metadata": {},
     "outputs": [
      {
       "metadata": {},
       "output_type": "pyout",
       "prompt_number": 75,
       "text": [
        "4985"
       ]
      }
     ],
     "prompt_number": 75
    },
    {
     "cell_type": "code",
     "collapsed": false,
     "input": [
      "%matplotlib inline\n",
      "plt.figure()\n",
      "plt.hist(query,bins=30,normed=True)\n",
      "plt.show()"
     ],
     "language": "python",
     "metadata": {},
     "outputs": [
      {
       "metadata": {},
       "output_type": "display_data",
       "png": "[encoded data removed]",
       "text": [
        "<matplotlib.figure.Figure at 0x10f94e790>"
       ]
      }
     ],
     "prompt_number": 79
    },
    {
     "cell_type": "code",
     "collapsed": false,
     "input": [
      "%%timeit\n",
      "onestep()"
     ],
     "language": "python",
     "metadata": {},
     "outputs": [
      {
       "output_type": "stream",
       "stream": "stdout",
       "text": [
        "10000 loops, best of 3: 142 \u00b5s per loop\n"
       ]
      }
     ],
     "prompt_number": 25
    },
    {
     "cell_type": "code",
     "collapsed": false,
     "input": [
      "#Movie\n",
      "plt.ioff()\n",
      "pad=\"000\"\n",
      "for i in range(1,int(Nt)):\n",
      "    print i,\n",
      "    plt.figure(figsize=(10,10))\n",
      "    onestep()\n",
      "    if np.random.randint(1,10)>8:\n",
      "        drum[1]+=drop(0.5*np.random.random())\n",
      "    fixborders()\n",
      "    onestep();fixborders()\n",
      "    onestep();fixborders()\n",
      "    tplot=plt.pcolor(xcoords,ycoords,np.abs(drum[0]),cmap='gist_heat',vmin=0.,vmax=1.)\n",
      "    plt.xlim(xmin+dx,xmax-dx)\n",
      "    plt.ylim(ymin+dy,ymax-dy)\n",
      "    if i>=10:\n",
      "        pad=\"00\"\n",
      "    if i>=100:\n",
      "        pad=\"0\"\n",
      "    if i>=1000:\n",
      "        pad=\"\"\n",
      "    tplot.axes.get_xaxis().set_visible(False)\n",
      "    tplot.axes.get_yaxis().set_visible(False)\n",
      "    plt.savefig(\"/Users/juan/Desktop/pool/water-\"+pad+str(i)+\".png\")\n",
      "    plt.close()"
     ],
     "language": "python",
     "metadata": {},
     "outputs": [
      {
       "output_type": "stream",
       "stream": "stdout",
       "text": [
        "1 "
       ]
      },
      {
       "output_type": "stream",
       "stream": "stdout",
       "text": [
        "2 "
       ]
      },
      {
       "output_type": "stream",
       "stream": "stdout",
       "text": [
        "3 "
       ]
      },
      {
       "output_type": "stream",
       "stream": "stdout",
       "text": [
        "4 "
       ]
      },
      {
       "output_type": "stream",
       "stream": "stdout",
       "text": [
        "5 "
       ]
      },
      {
       "output_type": "stream",
       "stream": "stdout",
       "text": [
        "6 "
       ]
      },
      {
       "output_type": "stream",
       "stream": "stdout",
       "text": [
        "7 "
       ]
      },
      {
       "output_type": "stream",
       "stream": "stdout",
       "text": [
        "8"
       ]
      },
      {
       "ename": "KeyboardInterrupt",
       "evalue": "",
       "output_type": "pyerr",
       "traceback": [
        "\u001b[0;31m---------------------------------------------------------------------------\u001b[0m\n\u001b[0;31mKeyboardInterrupt\u001b[0m                         Traceback (most recent call last)",
        "\u001b[0;32m<ipython-input-19-e42e53a355ba>\u001b[0m in \u001b[0;36m<module>\u001b[0;34m()\u001b[0m\n\u001b[1;32m     22\u001b[0m     \u001b[0mtplot\u001b[0m\u001b[0;34m.\u001b[0m\u001b[0maxes\u001b[0m\u001b[0;34m.\u001b[0m\u001b[0mget_xaxis\u001b[0m\u001b[0;34m(\u001b[0m\u001b[0;34m)\u001b[0m\u001b[0;34m.\u001b[0m\u001b[0mset_visible\u001b[0m\u001b[0;34m(\u001b[0m\u001b[0mFalse\u001b[0m\u001b[0;34m)\u001b[0m\u001b[0;34m\u001b[0m\u001b[0m\n\u001b[1;32m     23\u001b[0m     \u001b[0mtplot\u001b[0m\u001b[0;34m.\u001b[0m\u001b[0maxes\u001b[0m\u001b[0;34m.\u001b[0m\u001b[0mget_yaxis\u001b[0m\u001b[0;34m(\u001b[0m\u001b[0;34m)\u001b[0m\u001b[0;34m.\u001b[0m\u001b[0mset_visible\u001b[0m\u001b[0;34m(\u001b[0m\u001b[0mFalse\u001b[0m\u001b[0;34m)\u001b[0m\u001b[0;34m\u001b[0m\u001b[0m\n\u001b[0;32m---> 24\u001b[0;31m     \u001b[0mplt\u001b[0m\u001b[0;34m.\u001b[0m\u001b[0msavefig\u001b[0m\u001b[0;34m(\u001b[0m\u001b[0;34m\"/Users/juan/Desktop/pool/water-\"\u001b[0m\u001b[0;34m+\u001b[0m\u001b[0mpad\u001b[0m\u001b[0;34m+\u001b[0m\u001b[0mstr\u001b[0m\u001b[0;34m(\u001b[0m\u001b[0mi\u001b[0m\u001b[0;34m)\u001b[0m\u001b[0;34m+\u001b[0m\u001b[0;34m\".png\"\u001b[0m\u001b[0;34m)\u001b[0m\u001b[0;34m\u001b[0m\u001b[0m\n\u001b[0m\u001b[1;32m     25\u001b[0m     \u001b[0mplt\u001b[0m\u001b[0;34m.\u001b[0m\u001b[0mclose\u001b[0m\u001b[0;34m(\u001b[0m\u001b[0;34m)\u001b[0m\u001b[0;34m\u001b[0m\u001b[0m\n",
        "\u001b[0;32m/Users/juan/anaconda/lib/python2.7/site-packages/matplotlib/pyplot.pyc\u001b[0m in \u001b[0;36msavefig\u001b[0;34m(*args, **kwargs)\u001b[0m\n\u001b[1;32m    575\u001b[0m \u001b[0;32mdef\u001b[0m \u001b[0msavefig\u001b[0m\u001b[0;34m(\u001b[0m\u001b[0;34m*\u001b[0m\u001b[0margs\u001b[0m\u001b[0;34m,\u001b[0m \u001b[0;34m**\u001b[0m\u001b[0mkwargs\u001b[0m\u001b[0;34m)\u001b[0m\u001b[0;34m:\u001b[0m\u001b[0;34m\u001b[0m\u001b[0m\n\u001b[1;32m    576\u001b[0m     \u001b[0mfig\u001b[0m \u001b[0;34m=\u001b[0m \u001b[0mgcf\u001b[0m\u001b[0;34m(\u001b[0m\u001b[0;34m)\u001b[0m\u001b[0;34m\u001b[0m\u001b[0m\n\u001b[0;32m--> 577\u001b[0;31m     \u001b[0mres\u001b[0m \u001b[0;34m=\u001b[0m \u001b[0mfig\u001b[0m\u001b[0;34m.\u001b[0m\u001b[0msavefig\u001b[0m\u001b[0;34m(\u001b[0m\u001b[0;34m*\u001b[0m\u001b[0margs\u001b[0m\u001b[0;34m,\u001b[0m \u001b[0;34m**\u001b[0m\u001b[0mkwargs\u001b[0m\u001b[0;34m)\u001b[0m\u001b[0;34m\u001b[0m\u001b[0m\n\u001b[0m\u001b[1;32m    578\u001b[0m     \u001b[0mdraw\u001b[0m\u001b[0;34m(\u001b[0m\u001b[0;34m)\u001b[0m   \u001b[0;31m# need this if 'transparent=True' to reset colors\u001b[0m\u001b[0;34m\u001b[0m\u001b[0m\n\u001b[1;32m    579\u001b[0m     \u001b[0;32mreturn\u001b[0m \u001b[0mres\u001b[0m\u001b[0;34m\u001b[0m\u001b[0m\n",
        "\u001b[0;32m/Users/juan/anaconda/lib/python2.7/site-packages/matplotlib/figure.pyc\u001b[0m in \u001b[0;36msavefig\u001b[0;34m(self, *args, **kwargs)\u001b[0m\n\u001b[1;32m   1474\u001b[0m             \u001b[0mself\u001b[0m\u001b[0;34m.\u001b[0m\u001b[0mset_frameon\u001b[0m\u001b[0;34m(\u001b[0m\u001b[0mframeon\u001b[0m\u001b[0;34m)\u001b[0m\u001b[0;34m\u001b[0m\u001b[0m\n\u001b[1;32m   1475\u001b[0m \u001b[0;34m\u001b[0m\u001b[0m\n\u001b[0;32m-> 1476\u001b[0;31m         \u001b[0mself\u001b[0m\u001b[0;34m.\u001b[0m\u001b[0mcanvas\u001b[0m\u001b[0;34m.\u001b[0m\u001b[0mprint_figure\u001b[0m\u001b[0;34m(\u001b[0m\u001b[0;34m*\u001b[0m\u001b[0margs\u001b[0m\u001b[0;34m,\u001b[0m \u001b[0;34m**\u001b[0m\u001b[0mkwargs\u001b[0m\u001b[0;34m)\u001b[0m\u001b[0;34m\u001b[0m\u001b[0m\n\u001b[0m\u001b[1;32m   1477\u001b[0m \u001b[0;34m\u001b[0m\u001b[0m\n\u001b[1;32m   1478\u001b[0m         \u001b[0;32mif\u001b[0m \u001b[0mframeon\u001b[0m\u001b[0;34m:\u001b[0m\u001b[0;34m\u001b[0m\u001b[0m\n",
        "\u001b[0;32m/Users/juan/anaconda/lib/python2.7/site-packages/matplotlib/backend_bases.pyc\u001b[0m in \u001b[0;36mprint_figure\u001b[0;34m(self, filename, dpi, facecolor, edgecolor, orientation, format, **kwargs)\u001b[0m\n\u001b[1;32m   2209\u001b[0m                 \u001b[0morientation\u001b[0m\u001b[0;34m=\u001b[0m\u001b[0morientation\u001b[0m\u001b[0;34m,\u001b[0m\u001b[0;34m\u001b[0m\u001b[0m\n\u001b[1;32m   2210\u001b[0m                 \u001b[0mbbox_inches_restore\u001b[0m\u001b[0;34m=\u001b[0m\u001b[0m_bbox_inches_restore\u001b[0m\u001b[0;34m,\u001b[0m\u001b[0;34m\u001b[0m\u001b[0m\n\u001b[0;32m-> 2211\u001b[0;31m                 **kwargs)\n\u001b[0m\u001b[1;32m   2212\u001b[0m         \u001b[0;32mfinally\u001b[0m\u001b[0;34m:\u001b[0m\u001b[0;34m\u001b[0m\u001b[0m\n\u001b[1;32m   2213\u001b[0m             \u001b[0;32mif\u001b[0m \u001b[0mbbox_inches\u001b[0m \u001b[0;32mand\u001b[0m \u001b[0mrestore_bbox\u001b[0m\u001b[0;34m:\u001b[0m\u001b[0;34m\u001b[0m\u001b[0m\n",
        "\u001b[0;32m/Users/juan/anaconda/lib/python2.7/site-packages/matplotlib/backends/backend_agg.pyc\u001b[0m in \u001b[0;36mprint_png\u001b[0;34m(self, filename_or_obj, *args, **kwargs)\u001b[0m\n\u001b[1;32m    531\u001b[0m             _png.write_png(renderer._renderer.buffer_rgba(),\n\u001b[1;32m    532\u001b[0m                            \u001b[0mrenderer\u001b[0m\u001b[0;34m.\u001b[0m\u001b[0mwidth\u001b[0m\u001b[0;34m,\u001b[0m \u001b[0mrenderer\u001b[0m\u001b[0;34m.\u001b[0m\u001b[0mheight\u001b[0m\u001b[0;34m,\u001b[0m\u001b[0;34m\u001b[0m\u001b[0m\n\u001b[0;32m--> 533\u001b[0;31m                            filename_or_obj, self.figure.dpi)\n\u001b[0m\u001b[1;32m    534\u001b[0m         \u001b[0;32mfinally\u001b[0m\u001b[0;34m:\u001b[0m\u001b[0;34m\u001b[0m\u001b[0m\n\u001b[1;32m    535\u001b[0m             \u001b[0;32mif\u001b[0m \u001b[0mclose\u001b[0m\u001b[0;34m:\u001b[0m\u001b[0;34m\u001b[0m\u001b[0m\n",
        "\u001b[0;31mKeyboardInterrupt\u001b[0m: "
       ]
      }
     ],
     "prompt_number": 19
    },
    {
     "cell_type": "code",
     "collapsed": false,
     "input": [],
     "language": "python",
     "metadata": {},
     "outputs": []
    },
    {
     "cell_type": "code",
     "collapsed": false,
     "input": [],
     "language": "python",
     "metadata": {},
     "outputs": []
    }
   ],
   "metadata": {}
  }
 ]
}